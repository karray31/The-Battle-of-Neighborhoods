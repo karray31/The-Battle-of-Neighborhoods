{
    "cells": [
        {
            "metadata": {
                "collapsed": true
            },
            "cell_type": "markdown",
            "source": "<h1>Capstone: Find the best neighborhood in Toronto to open a Restaurant Supply Store</h1>"
        },
        {
            "metadata": {},
            "cell_type": "markdown",
            "source": "By Karan Ray"
        },
        {
            "metadata": {},
            "cell_type": "markdown",
            "source": "<h2>Introduction:</h2><br>\nA friend of mine who runs a leading Restaurant Supply Store has found out that I am studying data science and has asked for help in trying to determine which neighborhood in Toronto he should open his new store in.<br>\nExample Company:<br>\nhttp://www.bramainc.com/about-brama<br>\nI begin with an interview with my friend to determine the requirements.    "
        },
        {
            "metadata": {},
            "cell_type": "markdown",
            "source": "<h2>Problem Description:</h2><br>\nWhich neighborhood should my friend open his new Restaurant Supply store in Toronto?\nHe wants to ensure steady and sustainable business."
        },
        {
            "metadata": {},
            "cell_type": "markdown",
            "source": "<h2>Requirements:</h2><br>\n<h3>1. Store needs to be strategically located inside the biggest concentration of restaurants in Toronto area.<br><br>\n2. Confirm any assumption by means of modeling and testing the data. Specifically, visually cluster common restaurants in Toronto by neighborhood.<br><br>\n3. Additionally determine that a good number people can frequent these restaurants with sustainable frequency inside these neighborhoods.</h3>\n<ol type=\"a\">\n<li> Is the neighborhood populous?</li>\n<li> Is the neighborhood average salary close to the Canadian National Average?</li>\n</ol>\n\nMy friend wants to be able to judge which neighborhoods also may be poised to grow in restaurant numbers in coming years.\n\nLocating his new store according to these requirements will ensure the following:\n<ul>\n<li>lowest cost for delivery</li>\n<li>shortest travel time to his store for his clients</li>\n<li>overall lower run costs</li>\n<li>increase in overall business</li>\n<li>overall greater customer satisfaction</li>\n</ul>"
        },
        {
            "metadata": {},
            "cell_type": "code",
            "source": "",
            "execution_count": null,
            "outputs": []
        }
    ],
    "metadata": {
        "kernelspec": {
            "name": "python3",
            "display_name": "Python 3.7",
            "language": "python"
        },
        "language_info": {
            "name": "python",
            "version": "3.7.10",
            "mimetype": "text/x-python",
            "codemirror_mode": {
                "name": "ipython",
                "version": 3
            },
            "pygments_lexer": "ipython3",
            "nbconvert_exporter": "python",
            "file_extension": ".py"
        }
    },
    "nbformat": 4,
    "nbformat_minor": 1
}