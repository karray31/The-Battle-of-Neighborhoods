{
    "cells": [
        {
            "metadata": {
                "collapsed": true
            },
            "cell_type": "markdown",
            "source": "<h1>Capstone: Find the best neighborhood in Toronto to open a Restaurant Supply Store</h1>\nBy Karan Ray\n\n<h2>Data Requirements:</h2><br>\n<h3>1. We will need a list of Toronto neighborhoods broken down by postal code.</h3><br>\nI start with finding a list of Toronto Neighbor hoods with postal code from Wikipedia and load this data as my working base.\n<a href=\"https://en.wikipedia.org/wiki/List_of_postal_codes_of_Canada:_M\">https://en.wikipedia.org/wiki/List_of_postal_codes_of_Canada:_M</a>\n\n<h3>2. We will need a list of Toronto neighborhoods populations broken down by postal code</h3><br>\nImport a list of populations by postal code:<br>\n<a href=\"https://www12.statcan.gc.ca/census-recensement/2016/dp-pd/hlt-fst/pd-pl/Tables/File.cfm?T=1201&SR=1&RPP=9999&PR=0&CMA=0&CSD=0&S=22&O=A&Lang=Eng&OFT=CSV\">https://www12.statcan.gc.ca/census-recensement/2016/dp-pd/hlt-fst/pd-pl/Tables/File.cfm?T=1201&SR=1&RPP=9999&PR=0&CMA=0&CSD=0&S=22&O=A&Lang=Eng&OFT=CSV</a>\n\n<h3>3. We will need a list of Toronto neighborhoods average after tax income broken down by postal code</h3><br>\nHere we must manually download these from Stats Canada and load them.<br>\n<a href=\"https://www12.statcan.gc.ca/census-recensement/2016/dp-pd/prof/search-recherche/change-geo.cfm?Lang=E&Geo1=FSA\">https://www12.statcan.gc.ca/census-recensement/2016/dp-pd/prof/search-recherche/change-geo.cfm?Lang=E&Geo1=FSA</a>\nSee: to_geo_space.csv\n\n<h3>4. What is the Canadian National Average After Tax Income by Postal code</h3><br>\nHere we must also manually download this from Stats Canada and load them.<br>\n<a href=\"https://www150.statcan.gc.ca/n1/daily-quotidien/180313/dq180313a-eng.htm\">https://www150.statcan.gc.ca/n1/daily-quotidien/180313/dq180313a-eng.htm</a><br>\nCanadian families and unattached individuals had a median after-tax income of $57,000 in 2016.\n\n<h3>5. We will need a list of all Restaurant Venues from all neighborhoods in Toronto by Postal code</h3><br>\nWe use 4SQUARE API to download all venues from all neighborhoods in Toronto.<br>\n<a href=\"https://api.foursquare.com\">https://api.foursquare.com</a> <br>\nExtract Restaurants and only include Restaurants in our Data Set.\n\n<h3>6. Combine all of those into a working Data Set to cluster and geo spatial map of the results showing the best neighborhood to open a Restaurant Supply Store</h3>\nCombining all of these disparate data sets will clearly demonstrate the following:\n<ul>\n<li>which neighborhoods in Toronto have clusters of like Restaurants</li>\n<li>how populated each neighborhoods is</li>\n<li>the average after tax income is all of these neighborhoods</li>\n<li>which neighborhood should he target to open his new store.</li>\n</ul>"
        },
        {
            "metadata": {},
            "cell_type": "markdown",
            "source": ""
        }
    ],
    "metadata": {
        "kernelspec": {
            "name": "python3",
            "display_name": "Python 3.7",
            "language": "python"
        },
        "language_info": {
            "name": "python",
            "version": "3.7.10",
            "mimetype": "text/x-python",
            "codemirror_mode": {
                "name": "ipython",
                "version": 3
            },
            "pygments_lexer": "ipython3",
            "nbconvert_exporter": "python",
            "file_extension": ".py"
        }
    },
    "nbformat": 4,
    "nbformat_minor": 1
}